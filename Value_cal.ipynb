{
 "cells": [
  {
   "cell_type": "code",
   "execution_count": 1,
   "metadata": {},
   "outputs": [
    {
     "name": "stdout",
     "output_type": "stream",
     "text": [
      "BPS(book-value per share)?32020\n",
      "EPS(Earning per share) of last year?3400\n",
      "EPS(Earning per share) of 2 years ago?102\n",
      "EPS(Earning per share) of 3 years ago?4248\n",
      "Treasury Stock ratio?0\n"
     ]
    }
   ],
   "source": [
    "#간단하게 기업의 내재가치를 구해보는 함수를 만들어본다.\n",
    "\n",
    "bps = float(input(\"BPS(book-value per share)?\"))\n",
    "eps1 = float(input(\"EPS(Earning per share) of last year?\"))\n",
    "eps2 = float(input(\"EPS(Earning per share) of 2 years ago?\"))\n",
    "eps3 = float(input(\"EPS(Earning per share) of 3 years ago?\"))\n",
    "ts = float(input(\"Treasury Stock ratio?\"))\n",
    "\n"
   ]
  },
  {
   "cell_type": "code",
   "execution_count": 12,
   "metadata": {},
   "outputs": [],
   "source": [
    "def value_cal():\n",
    "    val = (bps + (eps1 * 3 + eps2 * 2 + eps3 *1)/6*10)/2\n",
    "       \n",
    "    if ts == 0:\n",
    "        print(\"intrinsic value is \",val)\n",
    "       \n",
    "    else:\n",
    "        print(\"intrinsic value is \",val/(1-ts))\n",
    "\n",
    "\n",
    "            "
   ]
  },
  {
   "cell_type": "code",
   "execution_count": 13,
   "metadata": {},
   "outputs": [
    {
     "name": "stdout",
     "output_type": "stream",
     "text": [
      "intrinsic value is  28220.0\n"
     ]
    }
   ],
   "source": [
    "value_cal()\n"
   ]
  },
  {
   "cell_type": "code",
   "execution_count": null,
   "metadata": {},
   "outputs": [],
   "source": []
  }
 ],
 "metadata": {
  "kernelspec": {
   "display_name": "Python 3",
   "language": "python",
   "name": "python3"
  },
  "language_info": {
   "codemirror_mode": {
    "name": "ipython",
    "version": 3
   },
   "file_extension": ".py",
   "mimetype": "text/x-python",
   "name": "python",
   "nbconvert_exporter": "python",
   "pygments_lexer": "ipython3",
   "version": "3.6.5"
  }
 },
 "nbformat": 4,
 "nbformat_minor": 2
}
